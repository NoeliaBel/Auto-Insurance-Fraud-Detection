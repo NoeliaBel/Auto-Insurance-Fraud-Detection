{
 "cells": [
  {
   "cell_type": "markdown",
   "metadata": {},
   "source": [
    "## Feature Descriptions  "
   ]
  },
  {
   "cell_type": "markdown",
   "metadata": {},
   "source": [
    "- **Month**: The month in which the insurance claim was made.\n",
    "\n",
    "- **WeekOfMonth**: The week of the month in which the insurance claim was made.\n",
    "\n",
    "- **DayOfWeek**: The day of the week on which the insurance claim was made.\n",
    "\n",
    "- **Make**: The manufacturer of the vehicle involved in the claim.\n",
    "\n",
    "- **AccidentArea**: The area where the accident occurred (e.g., urban, rural).\n",
    "\n",
    "- **DayOfWeekClaimed**: The day of the week on which the insurance claim was processed.\n",
    "\n",
    "- **MonthClaimed**: The month in which the insurance claim was processed.\n",
    "\n",
    "- **WeekOfMonthClaimed**: The week of the month in which the insurance claim was processed.\n",
    "\n",
    "- **Sex**: The gender of the policyholder.\n",
    "\n",
    "- **MaritalStatus**: The material status of the policyholder.\n",
    "\n",
    "- **Age**: The age of the policyholder.\n",
    "\n",
    "- **Fault**: Indicates whether the policyholder was at fault in the accident.\n",
    "\n",
    "- **PolicyType**: The type of insurance policy (e.g., comprehensive, third-party).\n",
    "\n",
    "- **VehicleCategory**: The category of the vehicle (e.g., sedan, SUV).\n",
    "\n",
    "- **VehiclePrice**: The price of vehicle.\n",
    "\n",
    "- **FraudFound_P**: Indicates whether fraud was detected in the insurance claim.\n",
    "\n",
    "- **PolicyNumber**: The unique identifier for the insurance policy.\n",
    "\n",
    "- **RepNumber**: The unique identifier for the insurance representative handling the claim.\n",
    "\n",
    "- **Deductible**: The amount that the policy holder must pay out of pocket before the insurance company pays the remaining costs.\n",
    "\n",
    "- **DriverRating**: The rating of the driver, often based on driving history or other factors.\n",
    "\n",
    "- **Days_Policy_Accident**: The number of days since the policy was issued until the accident occurred.\n",
    "\n",
    "- **Days_Policy_Claim**: The number of days since the policy was issued until the claim was made.\n",
    "\n",
    "- **PastNumberOfClaims**: The number of claims previously made by the policyholder.\n",
    "\n",
    "- **AgeOfVehicle**: The age of the vehicle involved in the claim.\n",
    "\n",
    "- **AgeOfPolicyHolder**: The age of the policyholder.\n",
    "\n",
    "- **PoliceReportFiled**: Indicates whether a police report was filed for the accident.\n",
    "\n",
    "- **WitnessPresent**: Indicates whether a witness was present at the scene of the accident.\n",
    "\n",
    "- **AgentType**: The type of insurance agent handling the policy (e.g., internal, external)\n",
    "\n",
    "- **NumberOfSuppliments**: The number of supplementary documents or claims related to the main claim, categorized into ranges.\n",
    "\n",
    "- **AddressChange_Claim**: Indicates whether the address of the policyholder was changed at the time of the claim, categorized into ranges.\n",
    "\n",
    "- **NumberOfCars**: The number of cars insured under the policy, categorized into ranges.\n",
    "\n",
    "- **Year**: The year in which the claim was made or processed.\n",
    "\n",
    "- **BasePolicy**: The base policy type (e.g., Liability, Collision, All Perils)."
   ]
  },
  {
   "cell_type": "markdown",
   "metadata": {},
   "source": []
  }
 ],
 "metadata": {
  "kernelspec": {
   "display_name": "base",
   "language": "python",
   "name": "python3"
  },
  "language_info": {
   "codemirror_mode": {
    "name": "ipython",
    "version": 3
   },
   "file_extension": ".py",
   "mimetype": "text/x-python",
   "name": "python",
   "nbconvert_exporter": "python",
   "pygments_lexer": "ipython3",
   "version": "3.11.7"
  }
 },
 "nbformat": 4,
 "nbformat_minor": 2
}
