{
 "cells": [
  {
   "cell_type": "code",
   "execution_count": 1,
   "id": "bf4a9e88-02b7-4613-9f64-269c3e8c2764",
   "metadata": {
    "tags": []
   },
   "outputs": [],
   "source": [
    "import warnings\n",
    "warnings.filterwarnings('ignore')\n",
    "\n",
    "import pandas as pd\n",
    "import numpy as np\n",
    "import matplotlib.pyplot as plt\n",
    "import seaborn as sns"
   ]
  },
  {
   "cell_type": "markdown",
   "id": "36a9b47d-b7e7-4d75-9f0e-a9b9ead82f68",
   "metadata": {},
   "source": [
    "# **DATA PREPARATION**"
   ]
  },
  {
   "cell_type": "markdown",
   "id": "016d0e7f",
   "metadata": {},
   "source": [
    "## Data Preprocessing Function"
   ]
  },
  {
   "cell_type": "code",
   "execution_count": 2,
   "id": "05a5c116-4804-464b-b188-f832d515a074",
   "metadata": {
    "tags": []
   },
   "outputs": [],
   "source": [
    "df=pd.read_csv(\"fraud_oracle.csv\")"
   ]
  },
  {
   "cell_type": "code",
   "execution_count": 3,
   "id": "8d7d9d37-a839-4bcd-8bc4-54ae6dab2831",
   "metadata": {
    "tags": []
   },
   "outputs": [],
   "source": [
    "def preprocess(df_funcion): \n",
    "\n",
    "    # Drop unused columns\n",
    "    columns_to_drop = ['Age','Month', 'WeekOfMonth', 'DayOfWeek', 'DayOfWeekClaimed', \n",
    "                       'WeekOfMonthClaimed','PolicyNumber', 'Days_Policy_Accident', \n",
    "                       'Days_Policy_Claim','NumberOfSuppliments', 'Year', 'BasePolicy']\n",
    "    df_funcion.drop(columns=columns_to_drop, inplace=True)\n",
    "\n",
    "    # Perform REPLACE procedures  \n",
    "    replacements = {\n",
    "      'AccidentArea': {'Rural': 0, 'Urban': 1},\n",
    "      'Sex': {'Male': 0, 'Female': 1},\n",
    "      'Fault': {'Third Party': 0, 'Policy Holder': 1},\n",
    "      'VehiclePrice': {'less than 20000': 10000, '20000 to 29000': 24500, '30000 to 39000': 34500,\n",
    "                       '40000 to 59000': 49500, '60000 to 69000': 64500, 'more than 69000': 85000},\n",
    "      'PastNumberOfClaims': {'none': 0, '1': 1, '2 to 4': 3, 'more than 4': 5},\n",
    "      'AgeOfVehicle': {'new': 1, '2 years': 2, '3 years': 3, '4 years': 4, '5 years': 5,\n",
    "                       '6 years': 6, '7 years': 7, 'more than 7': 8},\n",
    "      'PoliceReportFiled': {'No': 0, 'Yes': 1},\n",
    "      'WitnessPresent': {'No': 0, 'Yes': 1},\n",
    "      'AgentType': {'External': 0, 'Internal': 1},\n",
    "      'AddressChange_Claim': {'no change': 0, 'under 6 months':0.5, '1 year': 1, '2 to 3 years': 2.5,\n",
    "                              '4 to 8 years': 6},\n",
    "      'NumberOfCars': {'1 vehicle': 1, '2 vehicles': 2, '3 to 4': 3.5, '5 to 8': 6.5, 'more than 8': 9},\n",
    "      'AgeOfPolicyHolder' : {'16 to 17': 16.5, '18 to 20': 19, '21 to 25': 23, '26 to 30': 28,\n",
    "                             '31 to 35': 33, '36 to 40': 38, '41 to 50': 45.5, '51 to 65': 58,\n",
    "                             'over 65': 73}\n",
    "    }\n",
    "\n",
    "    df_funcion.replace(replacements, inplace=True)\n",
    "\n",
    "    return df_funcion # Return the processed dataframe "
   ]
  },
  {
   "cell_type": "code",
   "execution_count": 5,
   "id": "a53f9694-8803-4186-840a-aca73b31ae1f",
   "metadata": {
    "tags": []
   },
   "outputs": [],
   "source": [
    "df7=df.copy()"
   ]
  },
  {
   "cell_type": "code",
   "execution_count": 6,
   "id": "1113b202-d398-4483-bb2f-db30c1022233",
   "metadata": {
    "tags": []
   },
   "outputs": [],
   "source": [
    "df7=preprocess(df7)"
   ]
  },
  {
   "cell_type": "markdown",
   "id": "990938be",
   "metadata": {},
   "source": [
    "## Feature Engineering"
   ]
  },
  {
   "cell_type": "code",
   "execution_count": 8,
   "id": "46fa549a-ee91-435d-9b90-72830fbd7729",
   "metadata": {
    "tags": []
   },
   "outputs": [],
   "source": [
    "#NEW COLUMNS: Combination of Numerical Features\n",
    "\n",
    "\n",
    "df7['DiscountPolicyVehicle'] = df7['Deductible'] / df7['VehiclePrice']\n",
    "df7['ClaimsPerYear'] = df7['PastNumberOfClaims'] / df7['AgeOfPolicyHolder']\n",
    "df7['DriverRatingMinusClaims'] = df7['DriverRating'] - df7['PastNumberOfClaims']\n",
    "df7['ClaimsAgeOfVehicleInteraction'] = df7['PastNumberOfClaims'] * df7['AgeOfVehicle']\n"
   ]
  },
  {
   "cell_type": "code",
   "execution_count": 9,
   "id": "0de4bb5b-2d02-40c8-8e3c-b341621cf96e",
   "metadata": {
    "tags": []
   },
   "outputs": [],
   "source": [
    "#NEW COLUMNS: Combination of Categorical Features\n",
    "\n",
    "df7['Make_VehicleCategory'] = df7['Make'].astype(str) + '_' + df7['VehicleCategory'].astype(str)\n",
    "df7['Make_PolicyType'] = df7['Make'].astype(str) + '_' + df7['PolicyType'].astype(str)\n",
    "df7['AgeOfVehicle_Make'] = df7['AgeOfVehicle'].astype(str) + '_' + df7['Make'].astype(str)\n",
    "df7['Age_Make'] = df7['AgeOfPolicyHolder'].astype(str) + '_' + df7['Make'].astype(str)\n",
    "df7['Age_VehicleCategory'] = df7['AgeOfPolicyHolder'].astype(str) + '_' + df7['VehicleCategory'].astype(str)\n",
    "df7['Make_VehiclePrice'] = df7['Make'].astype(str) + '_' + df7['VehiclePrice'].astype(str)"
   ]
  },
  {
   "cell_type": "markdown",
   "id": "12cc49d0-9ef2-494a-8ed7-e614915b2a1e",
   "metadata": {
    "tags": []
   },
   "source": [
    "## OneHotEncoder"
   ]
  },
  {
   "cell_type": "code",
   "execution_count": 11,
   "id": "88e0ab0c-a089-4ecd-9775-af26a784f711",
   "metadata": {
    "tags": []
   },
   "outputs": [],
   "source": [
    "from sklearn.preprocessing import OneHotEncoder"
   ]
  },
  {
   "cell_type": "code",
   "execution_count": 12,
   "id": "cd70f8d4-19dc-49b2-ae43-c0e88907cc43",
   "metadata": {
    "tags": []
   },
   "outputs": [
    {
     "data": {
      "text/plain": [
       "Index(['Make', 'MonthClaimed', 'MaritalStatus', 'PolicyType',\n",
       "       'VehicleCategory', 'Make_VehicleCategory', 'Make_PolicyType',\n",
       "       'AgeOfVehicle_Make', 'Age_Make', 'Age_VehicleCategory',\n",
       "       'Make_VehiclePrice'],\n",
       "      dtype='object')"
      ]
     },
     "execution_count": 12,
     "metadata": {},
     "output_type": "execute_result"
    }
   ],
   "source": [
    "df7.select_dtypes(include='object').columns"
   ]
  },
  {
   "cell_type": "code",
   "execution_count": 13,
   "id": "d3a2c451-79f8-4426-bc62-324f875c8abc",
   "metadata": {
    "tags": []
   },
   "outputs": [],
   "source": [
    "encoder = OneHotEncoder(sparse_output=False)\n",
    "encoder.fit(df7[['Make', 'MonthClaimed', 'MaritalStatus', 'PolicyType',\n",
    "       'VehicleCategory', 'Make_VehicleCategory', 'Make_PolicyType',\n",
    "       'AgeOfVehicle_Make', 'Age_Make', 'Age_VehicleCategory',\n",
    "       'Make_VehiclePrice']]) \n",
    "\n",
    "encoder.transform(df7[['Make', 'MonthClaimed', 'MaritalStatus', 'PolicyType',\n",
    "       'VehicleCategory', 'Make_VehicleCategory', 'Make_PolicyType',\n",
    "       'AgeOfVehicle_Make', 'Age_Make', 'Age_VehicleCategory',\n",
    "       'Make_VehiclePrice']])\n",
    "\n",
    "nombre_columnas = encoder.get_feature_names_out(['Make', 'MonthClaimed', 'MaritalStatus', 'PolicyType',\n",
    "       'VehicleCategory', 'Make_VehicleCategory', 'Make_PolicyType',\n",
    "       'AgeOfVehicle_Make', 'Age_Make', 'Age_VehicleCategory',\n",
    "       'Make_VehiclePrice'])\n",
    "\n",
    "df7[nombre_columnas]= encoder.transform(df7[['Make', 'MonthClaimed', 'MaritalStatus', 'PolicyType',\n",
    "       'VehicleCategory', 'Make_VehicleCategory', 'Make_PolicyType',\n",
    "       'AgeOfVehicle_Make', 'Age_Make', 'Age_VehicleCategory',\n",
    "       'Make_VehiclePrice']])"
   ]
  },
  {
   "cell_type": "code",
   "execution_count": 15,
   "id": "f9ada4c2-9731-4c22-a471-87636c51bcb1",
   "metadata": {
    "tags": []
   },
   "outputs": [],
   "source": [
    "# Drop old columns   \n",
    "df7.drop(['Make', 'MonthClaimed', 'MaritalStatus', 'PolicyType',\n",
    "       'VehicleCategory', 'Make_VehicleCategory', 'Make_PolicyType',\n",
    "       'AgeOfVehicle_Make', 'Age_Make', 'Age_VehicleCategory',\n",
    "       'Make_VehiclePrice'], axis=1, inplace=True)"
   ]
  },
  {
   "cell_type": "markdown",
   "id": "09402f71",
   "metadata": {},
   "source": [
    "## Final DataFrame "
   ]
  },
  {
   "cell_type": "code",
   "execution_count": 17,
   "id": "21726c81-5472-4e45-b135-550cbc8c5f55",
   "metadata": {
    "tags": []
   },
   "outputs": [],
   "source": [
    "dftop=df7[[\n",
    "       'PolicyType_Sedan - Collision',\n",
    "       'PolicyType_Sport - All Perils', \n",
    "       'PolicyType_Sport - Liability', 'PolicyType_Utility - All Perils',\n",
    "       'PolicyType_Utility - Collision', 'PolicyType_Utility - Liability',\n",
    "       'MonthClaimed_Apr', 'MonthClaimed_Aug', 'MonthClaimed_Dec',\n",
    "       'MonthClaimed_Feb', 'MonthClaimed_Jan', 'MonthClaimed_Jul',\n",
    "       'MonthClaimed_Jun', 'MonthClaimed_Mar', 'MonthClaimed_May',\n",
    "       'MonthClaimed_Nov', 'MonthClaimed_Oct', 'MonthClaimed_Sep',\n",
    "       'VehiclePrice', 'Sex','Deductible', 'AgeOfPolicyHolder',\n",
    "    \n",
    "           'PolicyType_Sedan - Liability',\n",
    "       'VehicleCategory_Sport', 'Fault', 'Age_VehicleCategory_33.0_Sport',\n",
    "       'Age_VehicleCategory_33.0_Sedan',\n",
    "       'Make_VehicleCategory_Pontiac_Sport',\n",
    "       'Make_PolicyType_Pontiac_Sedan - Liability',\n",
    "       'Age_VehicleCategory_38.0_Sport',\n",
    "       'Make_PolicyType_Honda_Sedan - Liability',\n",
    "       'Make_PolicyType_Honda_Sport - Collision',\n",
    "       'Make_VehiclePrice_Accura_85000',\n",
    "       'Make_PolicyType_Mazda_Sedan - Liability', 'PastNumberOfClaims',\n",
    "       'Make_PolicyType_Accura_Utility - All Perils',\n",
    "       'Make_VehicleCategory_Accura_Utility',\n",
    "       'ClaimsAgeOfVehicleInteraction',\n",
    "       'Make_VehicleCategory_Mazda_Sport', 'ClaimsPerYear',\n",
    "       'DriverRatingMinusClaims', 'PolicyType_Sport - Collision','FraudFound_P']]"
   ]
  },
  {
   "cell_type": "markdown",
   "id": "2001a5a2-ad26-44b8-9c24-b6be3de6ce69",
   "metadata": {
    "tags": []
   },
   "source": [
    "## MinMaxScaler"
   ]
  },
  {
   "cell_type": "code",
   "execution_count": 19,
   "id": "527db377-d9de-48a8-bfb4-731206259c6d",
   "metadata": {
    "tags": []
   },
   "outputs": [],
   "source": [
    "from sklearn.preprocessing import MinMaxScaler"
   ]
  },
  {
   "cell_type": "code",
   "execution_count": 20,
   "id": "a8b34424-faa1-4047-ab7b-c0941faaf3f5",
   "metadata": {
    "tags": []
   },
   "outputs": [],
   "source": [
    "scaler = MinMaxScaler()\n",
    "# Scale variables\n",
    "dftop[['AgeOfPolicyHolder', 'VehiclePrice','Deductible']]= scaler.fit_transform(dftop[['AgeOfPolicyHolder', 'VehiclePrice','Deductible']])\n",
    "\n",
    "print(dftop[['AgeOfPolicyHolder', 'VehiclePrice', 'Deductible']].head())"
   ]
  },
  {
   "cell_type": "markdown",
   "id": "a9101122-f7f0-4a6e-a0ea-6d7ff2baad88",
   "metadata": {},
   "source": [
    "# **MODELING**"
   ]
  },
  {
   "cell_type": "markdown",
   "id": "a55860a9-cdd7-4c69-88b8-a5ec74a2c42b",
   "metadata": {},
   "source": [
    "## After Model Selection (Pycaret) and GridSearchCV"
   ]
  },
  {
   "cell_type": "code",
   "execution_count": 22,
   "id": "82c4c0ec-c9f2-402e-ada3-d44b139f7e9c",
   "metadata": {
    "tags": []
   },
   "outputs": [],
   "source": [
    "import pandas as pd\n",
    "from sklearn.model_selection import train_test_split\n",
    "from sklearn.ensemble import GradientBoostingClassifier\n",
    "from sklearn.metrics import (accuracy_score, roc_auc_score, precision_score, recall_score, f1_score)\n",
    "from imblearn.over_sampling import SMOTE"
   ]
  },
  {
   "cell_type": "code",
   "execution_count": 23,
   "id": "0d3e78c3-07fd-4692-9757-02c883836425",
   "metadata": {
    "tags": []
   },
   "outputs": [
    {
     "data": {
      "text/html": [
       "<div>\n",
       "<style scoped>\n",
       "    .dataframe tbody tr th:only-of-type {\n",
       "        vertical-align: middle;\n",
       "    }\n",
       "\n",
       "    .dataframe tbody tr th {\n",
       "        vertical-align: top;\n",
       "    }\n",
       "\n",
       "    .dataframe thead th {\n",
       "        text-align: right;\n",
       "    }\n",
       "</style>\n",
       "<table border=\"1\" class=\"dataframe\">\n",
       "  <thead>\n",
       "    <tr style=\"text-align: right;\">\n",
       "      <th></th>\n",
       "      <th>Metric</th>\n",
       "      <th>Train</th>\n",
       "      <th>Test</th>\n",
       "    </tr>\n",
       "  </thead>\n",
       "  <tbody>\n",
       "    <tr>\n",
       "      <th>0</th>\n",
       "      <td>Accuracy</td>\n",
       "      <td>0.986652</td>\n",
       "      <td>0.968872</td>\n",
       "    </tr>\n",
       "    <tr>\n",
       "      <th>1</th>\n",
       "      <td>AUC-ROC</td>\n",
       "      <td>0.999421</td>\n",
       "      <td>0.993874</td>\n",
       "    </tr>\n",
       "    <tr>\n",
       "      <th>2</th>\n",
       "      <td>Precision</td>\n",
       "      <td>0.988709</td>\n",
       "      <td>0.668258</td>\n",
       "    </tr>\n",
       "    <tr>\n",
       "      <th>3</th>\n",
       "      <td>Recall</td>\n",
       "      <td>0.984549</td>\n",
       "      <td>0.982456</td>\n",
       "    </tr>\n",
       "    <tr>\n",
       "      <th>4</th>\n",
       "      <td>F1 Score</td>\n",
       "      <td>0.986624</td>\n",
       "      <td>0.795455</td>\n",
       "    </tr>\n",
       "  </tbody>\n",
       "</table>\n",
       "</div>"
      ],
      "text/plain": [
       "      Metric     Train      Test\n",
       "0   Accuracy  0.986652  0.968872\n",
       "1    AUC-ROC  0.999421  0.993874\n",
       "2  Precision  0.988709  0.668258\n",
       "3     Recall  0.984549  0.982456\n",
       "4   F1 Score  0.986624  0.795455"
      ]
     },
     "execution_count": 23,
     "metadata": {},
     "output_type": "execute_result"
    }
   ],
   "source": [
    "X = dftop.drop('FraudFound_P',axis=1)\n",
    "y = dftop['FraudFound_P']\n",
    "\n",
    "# Division Between Training and Test Sets\n",
    "X_train, X_test, y_train, y_test = train_test_split(X, y, test_size = 0.3, random_state = 42)\n",
    "\n",
    "# Apply SMOTE to the Training Set\n",
    "smote = SMOTE(random_state=42)\n",
    "X_resampled, y_resampled = smote.fit_resample(X_train, y_train)\n",
    "\n",
    "# Train the Model with Balanced Training Data\n",
    "model = GradientBoostingClassifier(n_estimators=700, learning_rate=0.01, max_depth=4, min_samples_split=10, min_samples_leaf=5)\n",
    "model.fit(X_resampled, y_resampled)\n",
    "\n",
    "# Predictions\n",
    "y_train_pred = model.predict(X_resampled)# Predictions on the Balanced Training Set\n",
    "y_test_proba = model.predict_proba(X_test)[:, 1] # Probability Predictions on the Test Set\n",
    "\n",
    "# Apply a 0.2 Threshold to the Test Set\n",
    "threshold = 0.2\n",
    "y_test_pred = (y_test_proba >= threshold).astype(int)\n",
    "\n",
    "# Calculate the Metrics\n",
    "train_accuracy = accuracy_score(y_resampled, y_train_pred)\n",
    "test_accuracy = accuracy_score(y_test, y_test_pred)\n",
    "    \n",
    "train_auc = roc_auc_score(y_resampled, model.predict_proba(X_resampled)[:, 1])\n",
    "test_auc = roc_auc_score(y_test, model.predict_proba(X_test)[:, 1])\n",
    "    \n",
    "train_precision = precision_score(y_resampled, y_train_pred)\n",
    "test_precision = precision_score(y_test, y_test_pred)\n",
    "    \n",
    "train_recall = recall_score(y_resampled, y_train_pred)\n",
    "test_recall = recall_score(y_test, y_test_pred)\n",
    "\n",
    "train_f1 = f1_score(y_resampled, y_train_pred)\n",
    "test_f1 = f1_score(y_test, y_test_pred)\n",
    "\n",
    "\n",
    "# Create a DataFrame with the Results\n",
    "metrics = {\n",
    "    'Metric': ['Accuracy', 'AUC-ROC', 'Precision', 'Recall', 'F1 Score'],\n",
    "    'Train': [train_accuracy, train_auc, train_precision, train_recall, train_f1],\n",
    "    'Test': [test_accuracy, test_auc, test_precision, test_recall, test_f1]\n",
    "}\n",
    "\n",
    "metrics_df = pd.DataFrame(metrics)\n",
    "\n",
    "# Print DataFrame\n",
    "metrics_df\n"
   ]
  },
  {
   "cell_type": "markdown",
   "id": "c1a34908-6458-4169-bb1c-6aa6721633f2",
   "metadata": {},
   "source": [
    "# **MODEL EVALUATION**"
   ]
  },
  {
   "cell_type": "markdown",
   "id": "ef37e60a-5b96-49c8-8482-6ad5df77d70c",
   "metadata": {},
   "source": [
    "## CURVA ROC"
   ]
  },
  {
   "cell_type": "code",
   "execution_count": 25,
   "id": "2ecf8fd8-4fb4-4177-9ef4-9da2161ab5dd",
   "metadata": {},
   "outputs": [
    {
     "data": {
      "image/png": "[encoded data removed]",
      "text/plain": [
       "<Figure size 640x480 with 1 Axes>"
      ]
     },
     "metadata": {},
     "output_type": "display_data"
    }
   ],
   "source": [
    "from sklearn.metrics import roc_curve, auc\n",
    "import matplotlib.pyplot as plt\n",
    "\n",
    "fpr, tpr, thresholds = roc_curve(y_test, y_test_proba)\n",
    "roc_auc = auc(fpr, tpr)\n",
    "\n",
    "\n",
    "plt.figure()\n",
    "plt.plot(fpr, tpr, color='darkorange', lw=2, label='ROC curve (area = %0.2f)' % roc_auc)\n",
    "plt.plot([0, 1], [0, 1], color='navy', lw=2, linestyle='--')\n",
    "plt.xlim([0.0, 1.0])\n",
    "plt.ylim([0.0, 1.05])\n",
    "plt.xlabel('False Positive Rate')\n",
    "plt.ylabel('True Positive Rate')\n",
    "plt.title('Receiver Operating Characteristic')\n",
    "plt.legend(loc=\"lower right\")\n",
    "plt.show()"
   ]
  },
  {
   "cell_type": "markdown",
   "id": "5152cea6-647a-487c-a257-20184b669937",
   "metadata": {},
   "source": [
    "## TOP FEATURES"
   ]
  },
  {
   "cell_type": "code",
   "execution_count": 26,
   "id": "c62e1e1f-d47b-41a3-b508-73f484fbb3dd",
   "metadata": {
    "scrolled": true
   },
   "outputs": [
    {
     "data": {
      "text/html": [
       "<div>\n",
       "<style scoped>\n",
       "    .dataframe tbody tr th:only-of-type {\n",
       "        vertical-align: middle;\n",
       "    }\n",
       "\n",
       "    .dataframe tbody tr th {\n",
       "        vertical-align: top;\n",
       "    }\n",
       "\n",
       "    .dataframe thead th {\n",
       "        text-align: right;\n",
       "    }\n",
       "</style>\n",
       "<table border=\"1\" class=\"dataframe\">\n",
       "  <thead>\n",
       "    <tr style=\"text-align: right;\">\n",
       "      <th></th>\n",
       "      <th>feature</th>\n",
       "      <th>importance</th>\n",
       "    </tr>\n",
       "  </thead>\n",
       "  <tbody>\n",
       "    <tr>\n",
       "      <th>40</th>\n",
       "      <td>DriverRatingMinusClaims</td>\n",
       "      <td>0.034479</td>\n",
       "    </tr>\n",
       "    <tr>\n",
       "      <th>18</th>\n",
       "      <td>VehiclePrice</td>\n",
       "      <td>0.029183</td>\n",
       "    </tr>\n",
       "    <tr>\n",
       "      <th>24</th>\n",
       "      <td>Fault</td>\n",
       "      <td>0.028556</td>\n",
       "    </tr>\n",
       "    <tr>\n",
       "      <th>37</th>\n",
       "      <td>ClaimsAgeOfVehicleInteraction</td>\n",
       "      <td>0.026632</td>\n",
       "    </tr>\n",
       "    <tr>\n",
       "      <th>0</th>\n",
       "      <td>PolicyType_Sedan - Collision</td>\n",
       "      <td>0.024816</td>\n",
       "    </tr>\n",
       "    <tr>\n",
       "      <th>21</th>\n",
       "      <td>AgeOfPolicyHolder</td>\n",
       "      <td>0.023714</td>\n",
       "    </tr>\n",
       "    <tr>\n",
       "      <th>39</th>\n",
       "      <td>ClaimsPerYear</td>\n",
       "      <td>0.016494</td>\n",
       "    </tr>\n",
       "    <tr>\n",
       "      <th>22</th>\n",
       "      <td>PolicyType_Sedan - Liability</td>\n",
       "      <td>0.014246</td>\n",
       "    </tr>\n",
       "    <tr>\n",
       "      <th>19</th>\n",
       "      <td>Sex</td>\n",
       "      <td>0.010355</td>\n",
       "    </tr>\n",
       "    <tr>\n",
       "      <th>20</th>\n",
       "      <td>Deductible</td>\n",
       "      <td>0.009944</td>\n",
       "    </tr>\n",
       "    <tr>\n",
       "      <th>10</th>\n",
       "      <td>MonthClaimed_Jan</td>\n",
       "      <td>0.006939</td>\n",
       "    </tr>\n",
       "    <tr>\n",
       "      <th>6</th>\n",
       "      <td>MonthClaimed_Apr</td>\n",
       "      <td>0.006226</td>\n",
       "    </tr>\n",
       "    <tr>\n",
       "      <th>11</th>\n",
       "      <td>MonthClaimed_Jul</td>\n",
       "      <td>0.006074</td>\n",
       "    </tr>\n",
       "    <tr>\n",
       "      <th>13</th>\n",
       "      <td>MonthClaimed_Mar</td>\n",
       "      <td>0.005837</td>\n",
       "    </tr>\n",
       "    <tr>\n",
       "      <th>7</th>\n",
       "      <td>MonthClaimed_Aug</td>\n",
       "      <td>0.005383</td>\n",
       "    </tr>\n",
       "    <tr>\n",
       "      <th>15</th>\n",
       "      <td>MonthClaimed_Nov</td>\n",
       "      <td>0.005253</td>\n",
       "    </tr>\n",
       "    <tr>\n",
       "      <th>12</th>\n",
       "      <td>MonthClaimed_Jun</td>\n",
       "      <td>0.004950</td>\n",
       "    </tr>\n",
       "    <tr>\n",
       "      <th>17</th>\n",
       "      <td>MonthClaimed_Sep</td>\n",
       "      <td>0.004712</td>\n",
       "    </tr>\n",
       "    <tr>\n",
       "      <th>14</th>\n",
       "      <td>MonthClaimed_May</td>\n",
       "      <td>0.004669</td>\n",
       "    </tr>\n",
       "    <tr>\n",
       "      <th>8</th>\n",
       "      <td>MonthClaimed_Dec</td>\n",
       "      <td>0.004604</td>\n",
       "    </tr>\n",
       "    <tr>\n",
       "      <th>26</th>\n",
       "      <td>Age_VehicleCategory_33.0_Sedan</td>\n",
       "      <td>0.004583</td>\n",
       "    </tr>\n",
       "    <tr>\n",
       "      <th>9</th>\n",
       "      <td>MonthClaimed_Feb</td>\n",
       "      <td>0.004561</td>\n",
       "    </tr>\n",
       "    <tr>\n",
       "      <th>16</th>\n",
       "      <td>MonthClaimed_Oct</td>\n",
       "      <td>0.004410</td>\n",
       "    </tr>\n",
       "    <tr>\n",
       "      <th>32</th>\n",
       "      <td>Make_VehiclePrice_Accura_85000</td>\n",
       "      <td>0.001773</td>\n",
       "    </tr>\n",
       "    <tr>\n",
       "      <th>30</th>\n",
       "      <td>Make_PolicyType_Honda_Sedan - Liability</td>\n",
       "      <td>0.001427</td>\n",
       "    </tr>\n",
       "    <tr>\n",
       "      <th>27</th>\n",
       "      <td>Make_VehicleCategory_Pontiac_Sport</td>\n",
       "      <td>0.001319</td>\n",
       "    </tr>\n",
       "    <tr>\n",
       "      <th>3</th>\n",
       "      <td>PolicyType_Utility - All Perils</td>\n",
       "      <td>0.001297</td>\n",
       "    </tr>\n",
       "    <tr>\n",
       "      <th>23</th>\n",
       "      <td>VehicleCategory_Sport</td>\n",
       "      <td>0.001297</td>\n",
       "    </tr>\n",
       "    <tr>\n",
       "      <th>25</th>\n",
       "      <td>Age_VehicleCategory_33.0_Sport</td>\n",
       "      <td>0.001189</td>\n",
       "    </tr>\n",
       "    <tr>\n",
       "      <th>38</th>\n",
       "      <td>Make_VehicleCategory_Mazda_Sport</td>\n",
       "      <td>0.001038</td>\n",
       "    </tr>\n",
       "    <tr>\n",
       "      <th>31</th>\n",
       "      <td>Make_PolicyType_Honda_Sport - Collision</td>\n",
       "      <td>0.000843</td>\n",
       "    </tr>\n",
       "    <tr>\n",
       "      <th>34</th>\n",
       "      <td>PastNumberOfClaims</td>\n",
       "      <td>0.000649</td>\n",
       "    </tr>\n",
       "    <tr>\n",
       "      <th>35</th>\n",
       "      <td>Make_PolicyType_Accura_Utility - All Perils</td>\n",
       "      <td>0.000649</td>\n",
       "    </tr>\n",
       "    <tr>\n",
       "      <th>29</th>\n",
       "      <td>Age_VehicleCategory_38.0_Sport</td>\n",
       "      <td>0.000259</td>\n",
       "    </tr>\n",
       "    <tr>\n",
       "      <th>4</th>\n",
       "      <td>PolicyType_Utility - Collision</td>\n",
       "      <td>0.000238</td>\n",
       "    </tr>\n",
       "    <tr>\n",
       "      <th>5</th>\n",
       "      <td>PolicyType_Utility - Liability</td>\n",
       "      <td>0.000195</td>\n",
       "    </tr>\n",
       "    <tr>\n",
       "      <th>33</th>\n",
       "      <td>Make_PolicyType_Mazda_Sedan - Liability</td>\n",
       "      <td>0.000022</td>\n",
       "    </tr>\n",
       "  </tbody>\n",
       "</table>\n",
       "</div>"
      ],
      "text/plain": [
       "                                        feature  importance\n",
       "40                      DriverRatingMinusClaims    0.034479\n",
       "18                                 VehiclePrice    0.029183\n",
       "24                                        Fault    0.028556\n",
       "37                ClaimsAgeOfVehicleInteraction    0.026632\n",
       "0                  PolicyType_Sedan - Collision    0.024816\n",
       "21                            AgeOfPolicyHolder    0.023714\n",
       "39                                ClaimsPerYear    0.016494\n",
       "22                 PolicyType_Sedan - Liability    0.014246\n",
       "19                                          Sex    0.010355\n",
       "20                                   Deductible    0.009944\n",
       "10                             MonthClaimed_Jan    0.006939\n",
       "6                              MonthClaimed_Apr    0.006226\n",
       "11                             MonthClaimed_Jul    0.006074\n",
       "13                             MonthClaimed_Mar    0.005837\n",
       "7                              MonthClaimed_Aug    0.005383\n",
       "15                             MonthClaimed_Nov    0.005253\n",
       "12                             MonthClaimed_Jun    0.004950\n",
       "17                             MonthClaimed_Sep    0.004712\n",
       "14                             MonthClaimed_May    0.004669\n",
       "8                              MonthClaimed_Dec    0.004604\n",
       "26               Age_VehicleCategory_33.0_Sedan    0.004583\n",
       "9                              MonthClaimed_Feb    0.004561\n",
       "16                             MonthClaimed_Oct    0.004410\n",
       "32               Make_VehiclePrice_Accura_85000    0.001773\n",
       "30      Make_PolicyType_Honda_Sedan - Liability    0.001427\n",
       "27           Make_VehicleCategory_Pontiac_Sport    0.001319\n",
       "3               PolicyType_Utility - All Perils    0.001297\n",
       "23                        VehicleCategory_Sport    0.001297\n",
       "25               Age_VehicleCategory_33.0_Sport    0.001189\n",
       "38             Make_VehicleCategory_Mazda_Sport    0.001038\n",
       "31      Make_PolicyType_Honda_Sport - Collision    0.000843\n",
       "34                           PastNumberOfClaims    0.000649\n",
       "35  Make_PolicyType_Accura_Utility - All Perils    0.000649\n",
       "29               Age_VehicleCategory_38.0_Sport    0.000259\n",
       "4                PolicyType_Utility - Collision    0.000238\n",
       "5                PolicyType_Utility - Liability    0.000195\n",
       "33      Make_PolicyType_Mazda_Sedan - Liability    0.000022"
      ]
     },
     "execution_count": 26,
     "metadata": {},
     "output_type": "execute_result"
    }
   ],
   "source": [
    "from sklearn.inspection import permutation_importance\n",
    "result = permutation_importance(model, X_test, y_test, n_repeats=10, random_state=42)\n",
    "feature_importance = result.importances_mean\n",
    "features = X_test.columns\n",
    "\n",
    "importance_df = pd.DataFrame({\n",
    "    'feature': features,\n",
    "    'importance': feature_importance\n",
    "}).sort_values(by='importance', ascending=False)\n",
    "\n",
    "importance_df = importance_df[importance_df['importance'] > 0]\n",
    "\n",
    "importance_df"
   ]
  },
  {
   "cell_type": "code",
   "execution_count": 27,
   "id": "46a1b95d-1a0a-44ad-9dfd-aed74bc1aaea",
   "metadata": {},
   "outputs": [],
   "source": [
    "top_15_importance_df = importance_df.head(15)"
   ]
  },
  {
   "cell_type": "code",
   "execution_count": 30,
   "id": "75b85c57-e743-4b3e-b7a4-92bc1a00d359",
   "metadata": {},
   "outputs": [],
   "source": [
    "rename_dict = {\n",
    "    'Sex': 'Gender',\n",
    "    'Deductible': 'Insurance Deductible',\n",
    "    'AgeOfPolicyHolder': 'Policy Holder Age',\n",
    "    'PolicyType': 'Type of Policy',\n",
    "    'VehicleCategory': 'Category of Vehicle',\n",
    "    'Make': 'Vehicle Make',\n",
    "    'VehiclePrice': 'Price of Vehicle',\n",
    "    'Fault': 'Fault',\n",
    "    'PastNumberOfClaims': 'Past Claims',\n",
    "    'ClaimsAgeOfVehicleInteraction': 'Claims - Vehicle Age',\n",
    "    'ClaimsPerYear': 'Claims per Year',\n",
    "    'DriverRatingMinusClaims': 'Driver Rating - Claims',\n",
    "    'PolicyType_Sedan - Collision': 'Sedan - Collision',\n",
    "    'PolicyType_Sedan - Liability': 'Sedan - Liability',\n",
    "    'MonthClaimed_Jan': 'Month Claimed - Jan',\n",
    "    'MonthClaimed_Jul': 'Month Claimed - Jul', \n",
    "    'MonthClaimed_Mar': 'Month Claimed - Mar',\n",
    "    'MonthClaimed_Apr': 'Month Claimed - Apr', \n",
    "    'MonthClaimed_Nov': 'Month Claimed - Nov'\n",
    "    \n",
    "}\n",
    "\n",
    "top_15_importance_df['feature'] = top_15_importance_df['feature'].map(rename_dict).fillna(top_15_importance_df['feature'])"
   ]
  },
  {
   "cell_type": "code",
   "execution_count": 31,
   "id": "873a5ef2-4af0-4fec-a456-8f01137b3d17",
   "metadata": {},
   "outputs": [
    {
     "data": {
      "image/png": "[encoded data removed]",
      "text/plain": [
       "<Figure size 1000x1000 with 1 Axes>"
      ]
     },
     "metadata": {},
     "output_type": "display_data"
    }
   ],
   "source": [
    "# Bar Chart of the Most Important Variables\n",
    "\n",
    "palette = sns.color_palette(\"cividis\", len(top_15_importance_df)) \n",
    "plt.figure(figsize=(10, 10))\n",
    "plt.barh(top_15_importance_df['feature'], top_15_importance_df['importance'], align='center', color=palette)\n",
    "plt.xlabel('Importance')\n",
    "plt.ylabel('Features')\n",
    "plt.title('Top 15 Feature Importances')\n",
    "plt.gca().invert_yaxis()  \n",
    "plt.grid(False)\n",
    "plt.show()"
   ]
  },
  {
   "cell_type": "markdown",
   "id": "9b455dad-38ef-4b34-8aaf-c87f83eac77c",
   "metadata": {},
   "source": [
    "## Confusion Matrix"
   ]
  },
  {
   "cell_type": "code",
   "execution_count": 24,
   "id": "7d89c472-01fc-43b6-b71f-b288f4baa425",
   "metadata": {
    "tags": []
   },
   "outputs": [
    {
     "data": {
      "image/png": "[encoded data removed]",
      "text/plain": [
       "<Figure size 800x600 with 1 Axes>"
      ]
     },
     "metadata": {},
     "output_type": "display_data"
    }
   ],
   "source": [
    "from sklearn.metrics import confusion_matrix\n",
    "\n",
    "cm = confusion_matrix(y_test, y_test_pred)\n",
    "\n",
    "plt.figure(figsize=(8, 6))\n",
    "sns.heatmap(cm, annot=True, fmt='d', cmap='Blues', cbar=False)\n",
    "plt.xlabel('Predicción')\n",
    "plt.ylabel('Valor Real')\n",
    "plt.title('Matriz de Confusión')\n",
    "plt.show()"
   ]
  },
  {
   "cell_type": "markdown",
   "id": "090a9725",
   "metadata": {},
   "source": [
    "- **True Negatives (TN)**: With 4,202 cases correctly classified as non-fraudulent, the model performs well in identifying legitimate claims.\n",
    "- **False Positives (FP)**: There are 139 cases incorrectly classified as fraudulent. This indicates a significant number of false positives where the model wrongly predicts fraud.\n",
    "- **False Negatives** (FN): Only 5 cases were incorrectly classified as non-fraudulent. The model effectively detects most fraudulent claims.\n",
    "- **True Positives (TP)**: The model correctly identified 280 fraud cases, showing good performance in detecting fraud."
   ]
  }
 ],
 "metadata": {
  "kernelspec": {
   "display_name": "Python 3 (ipykernel)",
   "language": "python",
   "name": "python3"
  },
  "language_info": {
   "codemirror_mode": {
    "name": "ipython",
    "version": 3
   },
   "file_extension": ".py",
   "mimetype": "text/x-python",
   "name": "python",
   "nbconvert_exporter": "python",
   "pygments_lexer": "ipython3",
   "version": "3.11.7"
  }
 },
 "nbformat": 4,
 "nbformat_minor": 5
}
